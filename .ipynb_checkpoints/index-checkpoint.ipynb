{
 "cells": [
  {
   "cell_type": "markdown",
   "metadata": {
    "collapsed": true,
    "slideshow": {
     "slide_type": "slide"
    }
   },
   "source": [
    "# `Reveal.js` Presentation Slides with `IPython`\n",
    "<hr>\n",
    "\n",
    "2. [Network IP Intelligence Analytics](http://richardafolabi.github.io/Presentation_js/System_Malware_Analytics.slides.html)\n",
    "\n",
    "1. [US Telecom Infrastructure Network Analysis](http://richardafolabi.github.io/Presentation_js/US_Telecoms_Infrastructures.slides.html)\n",
    "\n",
    "<br/>\n",
    "\n",
    "\n",
    "* *(Better to open each in new window or new tab)* \n",
    "\n",
    "### Command to create this in `iPython shell` ▹\n",
    "\n",
    "<hr>\n",
    "\n",
    "`jupyter nbconvert notebook_name.ipynb --to slides --post serve` \n",
    "\n",
    "<hr>"
   ]
  },
  {
   "cell_type": "code",
   "execution_count": null,
   "metadata": {
    "collapsed": true
   },
   "outputs": [],
   "source": []
  }
 ],
 "metadata": {
  "celltoolbar": "Slideshow",
  "kernelspec": {
   "display_name": "Python 3",
   "language": "python",
   "name": "python3"
  },
  "language_info": {
   "codemirror_mode": {
    "name": "ipython",
    "version": 3
   },
   "file_extension": ".py",
   "mimetype": "text/x-python",
   "name": "python",
   "nbconvert_exporter": "python",
   "pygments_lexer": "ipython3",
   "version": "3.5.1"
  }
 },
 "nbformat": 4,
 "nbformat_minor": 0
}
